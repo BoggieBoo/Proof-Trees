{
 "cells": [
  {
   "cell_type": "code",
   "execution_count": 17,
   "metadata": {},
   "outputs": [
    {
     "ename": "AssertionError",
     "evalue": "The destination directory traced_lean4-example already exists.",
     "output_type": "error",
     "traceback": [
      "\u001b[0;31m---------------------------------------------------------------------------\u001b[0m",
      "\u001b[0;31mAssertionError\u001b[0m                            Traceback (most recent call last)",
      "Cell \u001b[0;32mIn[17], line 4\u001b[0m\n\u001b[1;32m      1\u001b[0m \u001b[38;5;28;01mfrom\u001b[39;00m \u001b[38;5;21;01mlean_dojo\u001b[39;00m \u001b[38;5;28;01mimport\u001b[39;00m LeanGitRepo, trace\n\u001b[1;32m      3\u001b[0m repo \u001b[38;5;241m=\u001b[39m LeanGitRepo(\u001b[38;5;124m\"\u001b[39m\u001b[38;5;124mhttps://github.com/yangky11/lean4-example\u001b[39m\u001b[38;5;124m\"\u001b[39m, \u001b[38;5;124m\"\u001b[39m\u001b[38;5;124m7b6ecb9ad4829e4e73600a3329baeb3b5df8d23f\u001b[39m\u001b[38;5;124m\"\u001b[39m)\n\u001b[0;32m----> 4\u001b[0m \u001b[43mtrace\u001b[49m\u001b[43m(\u001b[49m\u001b[43mrepo\u001b[49m\u001b[43m,\u001b[49m\u001b[43m \u001b[49m\u001b[43mdst_dir\u001b[49m\u001b[38;5;241;43m=\u001b[39;49m\u001b[38;5;124;43m\"\u001b[39;49m\u001b[38;5;124;43mtraced_lean4-example\u001b[39;49m\u001b[38;5;124;43m\"\u001b[39;49m\u001b[43m)\u001b[49m\n",
      "File \u001b[0;32m/usr/local/lib/python3.11/site-packages/lean_dojo/data_extraction/trace.py:243\u001b[0m, in \u001b[0;36mtrace\u001b[0;34m(repo, dst_dir, build_deps)\u001b[0m\n\u001b[1;32m    241\u001b[0m \u001b[38;5;28;01mif\u001b[39;00m dst_dir \u001b[38;5;129;01mis\u001b[39;00m \u001b[38;5;129;01mnot\u001b[39;00m \u001b[38;5;28;01mNone\u001b[39;00m:\n\u001b[1;32m    242\u001b[0m     dst_dir \u001b[38;5;241m=\u001b[39m Path(dst_dir)\n\u001b[0;32m--> 243\u001b[0m     \u001b[38;5;28;01massert\u001b[39;00m (\n\u001b[1;32m    244\u001b[0m         \u001b[38;5;129;01mnot\u001b[39;00m dst_dir\u001b[38;5;241m.\u001b[39mexists()\n\u001b[1;32m    245\u001b[0m     ), \u001b[38;5;124mf\u001b[39m\u001b[38;5;124m\"\u001b[39m\u001b[38;5;124mThe destination directory \u001b[39m\u001b[38;5;132;01m{\u001b[39;00mdst_dir\u001b[38;5;132;01m}\u001b[39;00m\u001b[38;5;124m already exists.\u001b[39m\u001b[38;5;124m\"\u001b[39m\n\u001b[1;32m    247\u001b[0m cached_path \u001b[38;5;241m=\u001b[39m get_traced_repo_path(repo, build_deps)\n\u001b[1;32m    248\u001b[0m logger\u001b[38;5;241m.\u001b[39minfo(\u001b[38;5;124mf\u001b[39m\u001b[38;5;124m\"\u001b[39m\u001b[38;5;124mLoading the traced repo from \u001b[39m\u001b[38;5;132;01m{\u001b[39;00mcached_path\u001b[38;5;132;01m}\u001b[39;00m\u001b[38;5;124m\"\u001b[39m)\n",
      "\u001b[0;31mAssertionError\u001b[0m: The destination directory traced_lean4-example already exists."
     ]
    }
   ],
   "source": [
    "from lean_dojo import LeanGitRepo, trace\n",
    "\n",
    "repo = LeanGitRepo(\"https://github.com/yangky11/lean4-example\", \"7b6ecb9ad4829e4e73600a3329baeb3b5df8d23f\")\n",
    "trace(repo, dst_dir=\"traced_lean4-example\")"
   ]
  },
  {
   "cell_type": "code",
   "execution_count": 19,
   "metadata": {},
   "outputs": [
    {
     "name": "stdout",
     "output_type": "stream",
     "text": [
      "TacticState(pp='a b c : Nat\\n⊢ a + b + c = a + c + b', id=0, message=None)\n",
      "ProofFinished(tactic_state_id=1, message='')\n"
     ]
    }
   ],
   "source": [
    "from lean_dojo import *\n",
    "\n",
    "repo = LeanGitRepo(\"https://github.com/yangky11/lean4-example\", \"7b6ecb9ad4829e4e73600a3329baeb3b5df8d23f\")\n",
    "theorem = Theorem(repo, \"Lean4Example.lean\", \"hello_world\")\n",
    "\n",
    "with Dojo(theorem) as (dojo, init_state):\n",
    "  print(init_state)\n",
    "  result = dojo.run_tac(init_state, \"rw [add_assoc, add_comm b, ←add_assoc]\")\n",
    "  assert isinstance(result, ProofFinished)\n",
    "  print(result)"
   ]
  },
  {
   "cell_type": "code",
   "execution_count": 42,
   "metadata": {},
   "outputs": [],
   "source": [
    "import os\n",
    "import subprocess\n",
    "\n",
    "def lean_compile(state: str):\n",
    "    temp_file_path = \"./hello_world.lean\"\n",
    "    with open(temp_file_path, \"w\") as f:\n",
    "        f.write(state)\n",
    "    result = subprocess.run(['lean', temp_file_path], capture_output=True, text=True)\n",
    "    if result.returncode == 0:\n",
    "        return False\n",
    "    else:\n",
    "        return result.stdout\n",
    "\n",
    "def lean_compile(state: str):\n",
    "    # Get the current working directory (where your Lake project is)\n",
    "    project_dir = os.getcwd()\n",
    "    temp_file_path = os.path.join(project_dir, \"hello_world.lean\")\n",
    "    \n",
    "    with open(temp_file_path, \"w\") as f:\n",
    "        f.write(state)\n",
    "    \n",
    "    # First make sure we're in the Lake project directory\n",
    "    os.chdir(project_dir)\n",
    "    \n",
    "    # Try using lake env to run lean\n",
    "    result = subprocess.run(\n",
    "        ['lake', 'env', 'lean', temp_file_path],\n",
    "        capture_output=True,\n",
    "        text=True\n",
    "    )\n",
    "    \n",
    "    if result.returncode == 0:\n",
    "        return False\n",
    "    else:\n",
    "        return result.stdout"
   ]
  },
  {
   "cell_type": "code",
   "execution_count": 58,
   "metadata": {},
   "outputs": [
    {
     "data": {
      "text/plain": [
       "'/Users/arnavmehta/Desktop/AIInEd/LeanProjectTest/hello_world.lean:9:3: error: unsolved goals\\na b : ℝ\\n⊢ (a + b) * (a + b) = a ^ 2 + 2 * a * b + b ^ 2\\n'"
      ]
     },
     "execution_count": 58,
     "metadata": {},
     "output_type": "execute_result"
    }
   ],
   "source": [
    "lean_compile(\"\"\"\n",
    "import Mathlib.Data.Real.Basic\n",
    "import Mathlib.Data.Nat.choose.sum\n",
    "import Mathlib.Data.Nat.Sqrt\n",
    "--  add add_pow\n",
    "   \n",
    "\n",
    "theorem squares (a b : ℝ) : (a + b) ^ 2 = a ^ 2 + 2 * a * b + b ^ 2\n",
    ":= by\n",
    "  rw [pow_two]\n",
    "\"\"\")"
   ]
  },
  {
   "cell_type": "code",
   "execution_count": 75,
   "metadata": {},
   "outputs": [],
   "source": [
    "import os\n",
    "import json\n",
    "from openai import OpenAI\n",
    "\n",
    "\n",
    "# index = 41 <- zero element kernel theorem\n",
    "\n",
    "def ask_llm(statement):\n",
    "    client = OpenAI(api_key='sk-32g4iVVXfcUcLKNLpsTSG7SpgHE0CsWjrbnv7rnnaqT3BlbkFJa3l7JCjuz4hAJGiEErZhj82FYufDqQdycFldWzWxEA')\n",
    "    prompt = (\n",
    "        f\"\"\"\n",
    "        Here are some examples before we start:\n",
    "\n",
    "        Example 1:\n",
    "        \t\n",
    "        NL: A: $ x_1,x_2,...,x_n \\ge 0$ B: $ x_1^2+x_2^2+...+x_n^2 \\ge 0$\n",
    "        Lean: theorem lean_workbook_plus_522 (n : ℕ) (x : ℕ → ℝ) : ∀ i : ℕ, i ≤ n → x i ≥ 0 → ∑ i in Finset.range n, (x i)^2 ≥ 0 := by sorry\n",
    "        We are writing a theorem to prove that A \\implies B: where\n",
    "        A: {statement[\"statement1\"]}\n",
    "        B: {statement[\"statement2\"]}\n",
    "        return the theorem with lean formalism and sorry for the tactic \n",
    "        Make sure you return in Lean 4 code that compiles \n",
    "        DO NO PROVIDE ANY TACTICS JUST WRITE sorry\n",
    "        GIVE ME ONLY THE LEAN 4 CODE SO I CAN DIRECTLY COMPILE IT\n",
    "        MAKE SURE YOU USE Mathlib4\n",
    "        HAVE NO IMPORT STATEMENTS\n",
    "        \"\"\"\n",
    "        )\n",
    "    response = client.chat.completions.create(messages=[{\"role\": \"user\", \"content\": prompt}], model=\"gpt-4o-mini\", temperature=0, n=1)             \n",
    "    return(response.choices[0].message.content)\n",
    "\n",
    "def ask_llm_again(statement, LLMoutput, error):\n",
    "    client = OpenAI(api_key='sk-32g4iVVXfcUcLKNLpsTSG7SpgHE0CsWjrbnv7rnnaqT3BlbkFJa3l7JCjuz4hAJGiEErZhj82FYufDqQdycFldWzWxEA')\n",
    "    prompt = (\n",
    "        f\"\"\"\n",
    "\n",
    "        Here are some examples before we start:\n",
    "\n",
    "        Example 1:\n",
    "        \t\n",
    "        NL: A: $ x_1,x_2,...,x_n \\ge 0$ B: $ x_1^2+x_2^2+...+x_n^2 \\ge 0$\n",
    "        Lean: theorem lean_workbook_plus_522 (n : ℕ) (x : ℕ → ℝ) : ∀ i : ℕ, i ≤ n → x i ≥ 0 → ∑ i in Finset.range n, (x i)^2 ≥ 0 := by sorry\n",
    "\n",
    "        We are writing a theorem to prove that A \\implies B: where\n",
    "        A: {statement[\"statement1\"]}\n",
    "        B: {statement[\"statement2\"]}\n",
    "        return the theorem with lean formalism and sorry for the tactic \n",
    "        Make sure you return in Lean 4 code that compiles \n",
    "        DO NO PROVIDE ANY TACTICS JUST WRITE sorry\n",
    "        this was your output the last time you tried to compile: {LLMoutput}\n",
    "        and this was the error: {error}\n",
    "        GIVE ME ONLY THE LEAN 4 CODE SO I CAN DIRECTLY COMPILE IT\n",
    "        MAKE SURE YOU USE Mathlib4\n",
    "        HAVE NO IMPORT STATEMENTS\n",
    "        \"\"\"\n",
    "        )\n",
    "    response = client.chat.completions.create(messages=[{\"role\": \"user\", \"content\": prompt}], model=\"gpt-4o-mini\", temperature=0, n=1)             \n",
    "    return(response.choices[0].message.content)\n",
    "\n",
    "def process_llm_output(output):\n",
    "\n",
    "    return \"import Mathlib \\n\" + output.split(\"```\")[1][5:]\n",
    "\n",
    "def LLM_autoformal(statement: str):\n",
    "    response = process_llm_output(ask_llm(statement))\n",
    "    \n",
    "    if lean_compile(response):\n",
    "        print(\"FAILURE\", statement, response, lean_compile(response))\n",
    "        response_again = process_llm_output(ask_llm_again(statement, response, lean_compile(response)))\n",
    "        print(\"AGAIN RESPONSE\", statement, response_again, lean_compile(response_again))\n",
    "    else: \n",
    "        print(\"Success\", statement, response)\n",
    "    print(\"HELLO WE ARE DONE\")\n"
   ]
  },
  {
   "cell_type": "code",
   "execution_count": 76,
   "metadata": {},
   "outputs": [
    {
     "name": "stdout",
     "output_type": "stream",
     "text": [
      "Success {'statement1': '$a_1, a_2, a_3, \\\\dots a_n \\\\in \\\\mathbb{N}$ are in arithmetic progression', 'statement2': '$\\\\sum_{i=0}^n a_i = \\x0crac{a_1}{a_2}$'} import Mathlib \n",
      "theorem lean_workbook_plus_523 (n : ℕ) (a : ℕ → ℝ) (h : ∀ i : ℕ, i < n → a i + 1 = a i + d) : ∑ i in Finset.range n, a i = (n * (a 0 + a (n - 1))) / 2 := by sorry\n",
      "\n",
      "HELLO WE ARE DONE\n"
     ]
    }
   ],
   "source": [
    "LLM_autoformal({\n",
    "    \"statement1\": \"$a_1, a_2, a_3, \\dots a_n \\in \\mathbb{N}$ are in arithmetic progression\",\n",
    "   \"statement2\": \"$\\sum_{i=0}^n a_i = \\frac{a_1}{a_2}$\",\n",
    "})"
   ]
  },
  {
   "cell_type": "code",
   "execution_count": 35,
   "metadata": {},
   "outputs": [
    {
     "name": "stdout",
     "output_type": "stream",
     "text": [
      "Theorem is valid!\n"
     ]
    }
   ],
   "source": [
    "import os\n",
    "import subprocess\n",
    "\n",
    "# Define your theorem as a string\n",
    "state = 'theorem hello_world (a b c : Nat): a + b + c = a + c + b := by sorry'\n",
    "\n",
    "# Write the string to a temporary .lean file\n",
    "temp_file_path = \"./tmp/hello_world.lean\"\n",
    "os.makedirs(\"./tmp\", exist_ok=True)\n",
    "with open(temp_file_path, \"w\") as f:\n",
    "    f.write(state)\n",
    "\n",
    "# Run lean on the file\n",
    "result = subprocess.run(['lean', temp_file_path], capture_output=True, text=True)\n",
    "\n",
    "# Check if there were any errors\n",
    "if result.returncode == 0:\n",
    "    print(\"Theorem is valid!\")\n",
    "else:\n",
    "    print(f\"Errors found:\\n{result.stdout}\")\n",
    "# print(result)"
   ]
  },
  {
   "cell_type": "code",
   "execution_count": null,
   "metadata": {},
   "outputs": [],
   "source": []
  },
  {
   "cell_type": "code",
   "execution_count": 57,
   "metadata": {},
   "outputs": [
    {
     "name": "stderr",
     "output_type": "stream",
     "text": [
      "/usr/local/lib/python3.11/site-packages/torchvision/datapoints/__init__.py:12: UserWarning: The torchvision.datapoints and torchvision.transforms.v2 namespaces are still Beta. While we do not expect major breaking changes, some APIs may still change according to user feedback. Please submit any feedback you may have in this issue: https://github.com/pytorch/vision/issues/6753, and you can also check out https://github.com/pytorch/vision/issues/7319 to learn more about the APIs that we suspect might involve future changes. You can silence this warning by calling torchvision.disable_beta_transforms_warning().\n",
      "  warnings.warn(_BETA_TRANSFORMS_WARNING)\n",
      "/usr/local/lib/python3.11/site-packages/torchvision/transforms/v2/__init__.py:54: UserWarning: The torchvision.datapoints and torchvision.transforms.v2 namespaces are still Beta. While we do not expect major breaking changes, some APIs may still change according to user feedback. Please submit any feedback you may have in this issue: https://github.com/pytorch/vision/issues/6753, and you can also check out https://github.com/pytorch/vision/issues/7319 to learn more about the APIs that we suspect might involve future changes. You can silence this warning by calling torchvision.disable_beta_transforms_warning().\n",
      "  warnings.warn(_BETA_TRANSFORMS_WARNING)\n"
     ]
    },
    {
     "name": "stdout",
     "output_type": "stream",
     "text": [
      "rw [← sq_sqrt, ← sq_sqrt, ← sq_sqrt, ← sq_sqrt, ← sq_sqrt, ← sq_sqrt, ← sq_sqrt]\n",
      "\n",
      "rw [add_comm]\n",
      "simp only [add_pow]\n",
      "simp [add_pow, add_mul]\n",
      "simp only [add_pow, add_pow, mul_pow, mul_pow]\n"
     ]
    }
   ],
   "source": [
    "from transformers import AutoTokenizer, AutoModelForSeq2SeqLM\n",
    "\n",
    "tokenizer = AutoTokenizer.from_pretrained(\"kaiyuy/leandojo-lean4-tacgen-byt5-small\")\n",
    "model = AutoModelForSeq2SeqLM.from_pretrained(\"kaiyuy/leandojo-lean4-tacgen-byt5-small\")\n",
    "\n",
    "# state = \"n : ℕ\\n⊢ gcd n n = n\"\n",
    "# state = \"arnav\"\n",
    "state = \"(a b : ℝ) :(a + b) ^ 2 = a ^ 2 + 2 * a * b + b ^ 2\"\n",
    "# state: \"give me the tactic that goes from state (a+b)^2 = (a+b)*(a+b) to a^2 + 2*a*b + b^2\"\n",
    "tokenized_state = tokenizer(state, return_tensors=\"pt\")\n",
    "\n",
    "# Generate a single tactic.\n",
    "tactic_ids = model.generate(tokenized_state.input_ids, max_length=1024)\n",
    "tactic = tokenizer.decode(tactic_ids[0], skip_special_tokens=True)\n",
    "print(tactic, end=\"\\n\\n\")\n",
    "\n",
    "# Generate multiple tactics via beam search.\n",
    "tactic_candidates_ids = model.generate(\n",
    "    tokenized_state.input_ids,\n",
    "    max_length=1024,\n",
    "    num_beams=4,\n",
    "    length_penalty=0.0,\n",
    "    do_sample=False,\n",
    "    num_return_sequences=4,\n",
    "    early_stopping=False,\n",
    ")\n",
    "tactic_candidates = tokenizer.batch_decode(\n",
    "    tactic_candidates_ids, skip_special_tokens=True\n",
    ")\n",
    "for tac in tactic_candidates:\n",
    "    print(tac)"
   ]
  },
  {
   "cell_type": "code",
   "execution_count": null,
   "metadata": {},
   "outputs": [],
   "source": [
    "# tidy, reprover, LLM_step"
   ]
  }
 ],
 "metadata": {
  "kernelspec": {
   "display_name": "Python 3",
   "language": "python",
   "name": "python3"
  },
  "language_info": {
   "codemirror_mode": {
    "name": "ipython",
    "version": 3
   },
   "file_extension": ".py",
   "mimetype": "text/x-python",
   "name": "python",
   "nbconvert_exporter": "python",
   "pygments_lexer": "ipython3",
   "version": "3.11.1"
  }
 },
 "nbformat": 4,
 "nbformat_minor": 2
}
